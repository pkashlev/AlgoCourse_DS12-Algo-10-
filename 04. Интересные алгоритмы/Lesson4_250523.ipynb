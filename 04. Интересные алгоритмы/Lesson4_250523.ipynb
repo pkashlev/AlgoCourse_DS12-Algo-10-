{
 "cells": [
  {
   "cell_type": "code",
   "execution_count": 5,
   "id": "c3d99e39",
   "metadata": {},
   "outputs": [
    {
     "name": "stdout",
     "output_type": "stream",
     "text": [
      "5.0\n"
     ]
    }
   ],
   "source": [
    "l = [1, 2, 3, 4]\n",
    "\n",
    "max_l = max(l) #O(n), 1\n",
    "if (max_l == len(l)):\n",
    "    max_l += 1\n",
    "sum_l = sum(l) #O(n), 2\n",
    "sum_pr = (1 + max_l) / 2 * (len(l) + 1)\n",
    "print(sum_pr - sum_l)"
   ]
  },
  {
   "cell_type": "code",
   "execution_count": 7,
   "id": "70fe90b9",
   "metadata": {},
   "outputs": [
    {
     "name": "stdout",
     "output_type": "stream",
     "text": [
      "5\n"
     ]
    }
   ],
   "source": [
    "l = [1, 2, 3, 4]\n",
    "max_l = 1\n",
    "sum_l = 0\n",
    "for i in range(len(l)):\n",
    "    sum_l += l[i]\n",
    "    max_l = max(max_l, l[i])\n",
    "if (max_l == len(l)):\n",
    "    max_l += 1\n",
    "sum_pr = (1 + max_l) * (len(l) + 1) // 2\n",
    "print(sum_pr - sum_l)"
   ]
  },
  {
   "cell_type": "code",
   "execution_count": 8,
   "id": "49a8bb91",
   "metadata": {},
   "outputs": [
    {
     "name": "stdout",
     "output_type": "stream",
     "text": [
      "False False False\n",
      "False True False\n",
      "True False False\n",
      "True True True\n"
     ]
    }
   ],
   "source": [
    "a = [False, False, True, True]\n",
    "b = [False, True, False, True]\n",
    "\n",
    "for i in range(len(a)):\n",
    "    print(a[i], b[i], (a[i] and b[i]))"
   ]
  },
  {
   "cell_type": "code",
   "execution_count": 9,
   "id": "5d4ef5ee",
   "metadata": {},
   "outputs": [
    {
     "name": "stdout",
     "output_type": "stream",
     "text": [
      "False False False\n",
      "False True True\n",
      "True False True\n",
      "True True True\n"
     ]
    }
   ],
   "source": [
    "a = [False, False, True, True]\n",
    "b = [False, True, False, True]\n",
    "\n",
    "for i in range(len(a)):\n",
    "    print(a[i], b[i], (a[i] or b[i]))"
   ]
  },
  {
   "cell_type": "code",
   "execution_count": 25,
   "id": "1b93d6d5",
   "metadata": {},
   "outputs": [
    {
     "name": "stdout",
     "output_type": "stream",
     "text": [
      "3\n"
     ]
    }
   ],
   "source": [
    "l = [3, 1, 1, 1, 1, 3, 3, 3, 3]\n",
    "elem = 0\n",
    "count = 0\n",
    "\n",
    "for i in range(len(l)):\n",
    "    if (count == 0):\n",
    "        elem = l[i]\n",
    "        count += 1\n",
    "    elif (elem == l[i]):\n",
    "        count += 1\n",
    "    else:\n",
    "        count -= 1\n",
    "print(elem)"
   ]
  },
  {
   "cell_type": "code",
   "execution_count": 26,
   "id": "e3468d7c",
   "metadata": {},
   "outputs": [
    {
     "name": "stdout",
     "output_type": "stream",
     "text": [
      "4\n",
      "2\n",
      "7\n",
      "5\n",
      "3\n"
     ]
    }
   ],
   "source": [
    "stack = []\n",
    "stack.append(1)\n",
    "stack.append(7)\n",
    "stack.append(2)\n",
    "stack.append(4)\n",
    "print(stack.pop())\n",
    "print(stack.pop())\n",
    "print(stack.pop())\n",
    "stack.append(3)\n",
    "stack.append(5)\n",
    "print(stack.pop())\n",
    "print(stack.pop())"
   ]
  },
  {
   "cell_type": "code",
   "execution_count": 27,
   "id": "c9fe2bde",
   "metadata": {},
   "outputs": [
    {
     "name": "stdout",
     "output_type": "stream",
     "text": [
      "2\n",
      "5\n"
     ]
    }
   ],
   "source": [
    "from collections import deque\n",
    "stack = deque()\n",
    "stack.append(1)\n",
    "stack.append(4)\n",
    "stack.append(5)\n",
    "stack.append(2)\n",
    "print(stack.pop())\n",
    "print(stack.pop())"
   ]
  },
  {
   "cell_type": "code",
   "execution_count": 28,
   "id": "58d5ca9d",
   "metadata": {},
   "outputs": [
    {
     "name": "stdout",
     "output_type": "stream",
     "text": [
      "1\n",
      "4\n",
      "5\n"
     ]
    }
   ],
   "source": [
    "queue = []\n",
    "queue.append(1)\n",
    "queue.append(4)\n",
    "queue.append(5)\n",
    "queue.append(2)\n",
    "print(queue.pop(0))\n",
    "print(queue.pop(0))\n",
    "queue.append(9)\n",
    "queue.append(3)\n",
    "print(queue.pop(0))"
   ]
  },
  {
   "cell_type": "code",
   "execution_count": 29,
   "id": "f8fbdf6c",
   "metadata": {},
   "outputs": [
    {
     "name": "stdout",
     "output_type": "stream",
     "text": [
      "1\n",
      "4\n"
     ]
    }
   ],
   "source": [
    "from collections import deque\n",
    "queue = deque()\n",
    "queue.append(1)\n",
    "queue.append(4)\n",
    "queue.append(5)\n",
    "queue.append(2)\n",
    "print(queue.popleft())\n",
    "print(queue.popleft())"
   ]
  },
  {
   "cell_type": "code",
   "execution_count": 36,
   "id": "f872cc4a",
   "metadata": {},
   "outputs": [
    {
     "name": "stdout",
     "output_type": "stream",
     "text": [
      "5\n",
      "3\n",
      "7\n",
      "1\n",
      "4\n",
      "2\n"
     ]
    }
   ],
   "source": [
    "from collections import deque\n",
    "deque = deque()\n",
    "deque.append(1)\n",
    "deque.appendleft(4)\n",
    "deque.append(5)\n",
    "deque.appendleft(2)\n",
    "deque.appendleft(7)\n",
    "deque.appendleft(3)\n",
    "print(deque.pop())\n",
    "print(deque.popleft())\n",
    "print(deque.popleft())\n",
    "print(deque[-1])\n",
    "print(deque[-2])\n",
    "print(deque[-3])"
   ]
  },
  {
   "cell_type": "code",
   "execution_count": 45,
   "id": "604774c6",
   "metadata": {},
   "outputs": [
    {
     "name": "stdout",
     "output_type": "stream",
     "text": [
      "no\n"
     ]
    }
   ],
   "source": [
    "from collections import deque\n",
    "#s = input()\n",
    "s = '()))'\n",
    "d = deque()\n",
    "brackets = {')':'(', ']':'[', '}' : '{'}\n",
    "\n",
    "for i in s:\n",
    "    if i in '([{':\n",
    "        d.append(i)\n",
    "    elif i == ')':\n",
    "        if (len(d) != 0):\n",
    "            a = d.pop()\n",
    "            if (a != '('):\n",
    "                d.append(1)\n",
    "                break\n",
    "        else:\n",
    "            d.append(1)\n",
    "            break\n",
    "    elif i == ']':\n",
    "        if (len(d) != 0):\n",
    "            a = d.pop()\n",
    "            if (a != '['):\n",
    "                d.append(1)\n",
    "                break\n",
    "        else:\n",
    "            d.append(1)\n",
    "            break\n",
    "    elif i == '}':\n",
    "        if (len(d) != 0):\n",
    "            a = d.pop()\n",
    "            if (a != '{'):\n",
    "                d.append(1)\n",
    "                break\n",
    "        else:\n",
    "            d.append(1)\n",
    "            break\n",
    "if (len(d) == 0):\n",
    "    print('yes')\n",
    "else:\n",
    "    print('no')"
   ]
  },
  {
   "cell_type": "code",
   "execution_count": 46,
   "id": "a7047d78",
   "metadata": {},
   "outputs": [
    {
     "name": "stdout",
     "output_type": "stream",
     "text": [
      "yes\n"
     ]
    }
   ],
   "source": [
    "from collections import deque\n",
    "#s = input()\n",
    "s = '((()))'\n",
    "d = deque()\n",
    "brackets = {')':'(', ']':'[', '}' : '{'}\n",
    "\n",
    "for i in s:\n",
    "    if i in '([{':\n",
    "        d.append(i)\n",
    "    else:\n",
    "        if (len(d) != 0):\n",
    "            a = d.pop()\n",
    "            if (a != brackets[i]):\n",
    "                d.append(1)\n",
    "                break\n",
    "        else:\n",
    "            d.append(1)\n",
    "            break\n",
    "if (len(d) == 0):\n",
    "    print('yes')\n",
    "else:\n",
    "    print('no')"
   ]
  },
  {
   "cell_type": "code",
   "execution_count": 49,
   "id": "3ed46890",
   "metadata": {},
   "outputs": [
    {
     "name": "stdout",
     "output_type": "stream",
     "text": [
      "8 9 + 1 7 - *\n",
      "-102\n"
     ]
    }
   ],
   "source": [
    "from collections import deque\n",
    "\n",
    "l = input().split()\n",
    "result = deque()\n",
    "\n",
    "for i in l: #O(len(str))\n",
    "    if (i == '+'):\n",
    "        b = result.pop()\n",
    "        c = result.pop()\n",
    "        result.append(b + c)\n",
    "    elif (i == '-'):\n",
    "        b = result.pop()\n",
    "        c = result.pop()\n",
    "        result.append(c - b)\n",
    "    elif (i == '*'):\n",
    "        b = result.pop()\n",
    "        c = result.pop()\n",
    "        result.append(b * c)\n",
    "    else:\n",
    "        result.append(int(i))\n",
    "print(result[0])"
   ]
  },
  {
   "cell_type": "code",
   "execution_count": 52,
   "id": "b8f35b7c",
   "metadata": {},
   "outputs": [
    {
     "name": "stdout",
     "output_type": "stream",
     "text": [
      "(1, 2, 1, 2)\n"
     ]
    }
   ],
   "source": [
    "a = (1, 2)\n",
    "b = (1, 2)\n",
    "print(a + b)"
   ]
  },
  {
   "cell_type": "code",
   "execution_count": 53,
   "id": "fdbf9f60",
   "metadata": {},
   "outputs": [
    {
     "name": "stdout",
     "output_type": "stream",
     "text": [
      "{'e', 'h', 'l', 'o'}\n"
     ]
    }
   ],
   "source": [
    "a = set()\n",
    "a = set('hello')\n",
    "print(a)"
   ]
  },
  {
   "cell_type": "code",
   "execution_count": 54,
   "id": "3792f1f1",
   "metadata": {},
   "outputs": [
    {
     "name": "stdout",
     "output_type": "stream",
     "text": [
      "{1, 2, 3}\n"
     ]
    }
   ],
   "source": [
    "a = set([1, 2, 3, 1])\n",
    "print(a)"
   ]
  },
  {
   "cell_type": "code",
   "execution_count": 55,
   "id": "a2ecf2bb",
   "metadata": {},
   "outputs": [
    {
     "data": {
      "text/plain": [
       "3"
      ]
     },
     "execution_count": 55,
     "metadata": {},
     "output_type": "execute_result"
    }
   ],
   "source": [
    "len(a)"
   ]
  },
  {
   "cell_type": "code",
   "execution_count": 56,
   "id": "eccd7a27",
   "metadata": {},
   "outputs": [
    {
     "name": "stdout",
     "output_type": "stream",
     "text": [
      "{1, 2, 3, 4}\n"
     ]
    }
   ],
   "source": [
    "a = set([1, 2, 3])\n",
    "b = set([2, 3, 4])\n",
    "print(a.union(b))"
   ]
  },
  {
   "cell_type": "code",
   "execution_count": 57,
   "id": "06737158",
   "metadata": {},
   "outputs": [
    {
     "name": "stdout",
     "output_type": "stream",
     "text": [
      "{2, 3}\n"
     ]
    }
   ],
   "source": [
    "a = set([1, 2, 3])\n",
    "b = set([2, 3, 4])\n",
    "print(a.intersection(b))"
   ]
  },
  {
   "cell_type": "code",
   "execution_count": 58,
   "id": "dbe2521f",
   "metadata": {},
   "outputs": [
    {
     "name": "stdout",
     "output_type": "stream",
     "text": [
      "{1}\n"
     ]
    }
   ],
   "source": [
    "a = set([1, 2, 3])\n",
    "b = set([2, 3, 4])\n",
    "print(a.difference(b))"
   ]
  },
  {
   "cell_type": "code",
   "execution_count": 59,
   "id": "7b84b55d",
   "metadata": {},
   "outputs": [
    {
     "name": "stdout",
     "output_type": "stream",
     "text": [
      "{1, 4}\n"
     ]
    }
   ],
   "source": [
    "a = set([1, 2, 3])\n",
    "b = set([2, 3, 4])\n",
    "print(a.symmetric_difference(b))"
   ]
  },
  {
   "cell_type": "code",
   "execution_count": 60,
   "id": "ff2b68f0",
   "metadata": {},
   "outputs": [
    {
     "name": "stdout",
     "output_type": "stream",
     "text": [
      "True\n"
     ]
    }
   ],
   "source": [
    "a = set([1, 2, 3])\n",
    "b = set([2])\n",
    "print(b.issubset(a))"
   ]
  },
  {
   "cell_type": "code",
   "execution_count": 63,
   "id": "f4884ddc",
   "metadata": {},
   "outputs": [
    {
     "name": "stdout",
     "output_type": "stream",
     "text": [
      "False\n"
     ]
    }
   ],
   "source": [
    "a = set([1, 2, 3])\n",
    "b = set([1, 8])\n",
    "print(b.isdisjoint(a))"
   ]
  },
  {
   "cell_type": "code",
   "execution_count": 64,
   "id": "750bb73f",
   "metadata": {},
   "outputs": [
    {
     "name": "stdout",
     "output_type": "stream",
     "text": [
      "{10, 1, 2, 3}\n"
     ]
    }
   ],
   "source": [
    "a.add(10)\n",
    "print(a)"
   ]
  },
  {
   "cell_type": "code",
   "execution_count": 65,
   "id": "97291740",
   "metadata": {},
   "outputs": [
    {
     "name": "stdout",
     "output_type": "stream",
     "text": [
      "{10, 2, 3}\n"
     ]
    }
   ],
   "source": [
    "a.remove(1)\n",
    "print(a)"
   ]
  },
  {
   "cell_type": "code",
   "execution_count": 66,
   "id": "68b70cd9",
   "metadata": {},
   "outputs": [
    {
     "ename": "KeyError",
     "evalue": "4",
     "output_type": "error",
     "traceback": [
      "\u001b[0;31m---------------------------------------------------------------------------\u001b[0m",
      "\u001b[0;31mKeyError\u001b[0m                                  Traceback (most recent call last)",
      "Input \u001b[0;32mIn [66]\u001b[0m, in \u001b[0;36m<cell line: 1>\u001b[0;34m()\u001b[0m\n\u001b[0;32m----> 1\u001b[0m \u001b[43ma\u001b[49m\u001b[38;5;241;43m.\u001b[39;49m\u001b[43mremove\u001b[49m\u001b[43m(\u001b[49m\u001b[38;5;241;43m4\u001b[39;49m\u001b[43m)\u001b[49m\n\u001b[1;32m      2\u001b[0m \u001b[38;5;28mprint\u001b[39m(a)\n",
      "\u001b[0;31mKeyError\u001b[0m: 4"
     ]
    }
   ],
   "source": [
    "a.remove(4)\n",
    "print(a)"
   ]
  },
  {
   "cell_type": "code",
   "execution_count": 67,
   "id": "e04ea58f",
   "metadata": {},
   "outputs": [
    {
     "name": "stdout",
     "output_type": "stream",
     "text": [
      "{10, 2, 3}\n"
     ]
    }
   ],
   "source": [
    "a.discard(1)\n",
    "print(a)"
   ]
  },
  {
   "cell_type": "code",
   "execution_count": 68,
   "id": "3d78fc4a",
   "metadata": {},
   "outputs": [
    {
     "name": "stdout",
     "output_type": "stream",
     "text": [
      "{2, 3}\n"
     ]
    }
   ],
   "source": [
    "a.discard(10)\n",
    "print(a)"
   ]
  },
  {
   "cell_type": "code",
   "execution_count": 69,
   "id": "cbadc86a",
   "metadata": {},
   "outputs": [
    {
     "name": "stdout",
     "output_type": "stream",
     "text": [
      "{3}\n"
     ]
    }
   ],
   "source": [
    "a.pop()\n",
    "print(a)"
   ]
  },
  {
   "cell_type": "code",
   "execution_count": 71,
   "id": "018c6946",
   "metadata": {},
   "outputs": [
    {
     "name": "stdout",
     "output_type": "stream",
     "text": [
      "set()\n"
     ]
    }
   ],
   "source": [
    "a.clear()\n",
    "print(a)"
   ]
  },
  {
   "cell_type": "code",
   "execution_count": 72,
   "id": "120fc1c5",
   "metadata": {},
   "outputs": [
    {
     "name": "stdout",
     "output_type": "stream",
     "text": [
      "19\n"
     ]
    }
   ],
   "source": [
    "text = 'She sells sea shells on the sea shore; The shells that she sells are sea shells Im sure. So if she sells sea shells on the sea shore, Im sure that the shells are sea shore shells.'\n",
    "\n",
    "words = set(text.split())\n",
    "print(len(words))"
   ]
  },
  {
   "cell_type": "code",
   "execution_count": 73,
   "id": "31a67364",
   "metadata": {},
   "outputs": [
    {
     "name": "stdout",
     "output_type": "stream",
     "text": [
      "3\n"
     ]
    }
   ],
   "source": [
    "text = '1 2 3 2 1'\n",
    "nums = set(text.split())\n",
    "print(len(nums))"
   ]
  },
  {
   "cell_type": "code",
   "execution_count": 74,
   "id": "8bd3a9d8",
   "metadata": {},
   "outputs": [
    {
     "name": "stdout",
     "output_type": "stream",
     "text": [
      "2\n"
     ]
    }
   ],
   "source": [
    "text1 = set('1 2 3'.split())\n",
    "text2 = set('4 2 3'.split())\n",
    "print(len(text1 & text2))"
   ]
  },
  {
   "cell_type": "code",
   "execution_count": null,
   "id": "160c98c9",
   "metadata": {},
   "outputs": [],
   "source": []
  }
 ],
 "metadata": {
  "kernelspec": {
   "display_name": "Python 3 (ipykernel)",
   "language": "python",
   "name": "python3"
  },
  "language_info": {
   "codemirror_mode": {
    "name": "ipython",
    "version": 3
   },
   "file_extension": ".py",
   "mimetype": "text/x-python",
   "name": "python",
   "nbconvert_exporter": "python",
   "pygments_lexer": "ipython3",
   "version": "3.9.12"
  }
 },
 "nbformat": 4,
 "nbformat_minor": 5
}
