{
 "cells": [
  {
   "cell_type": "code",
   "execution_count": 8,
   "id": "b0bdc578",
   "metadata": {},
   "outputs": [],
   "source": [
    "def BinarySearch(l, val):\n",
    "    l_ind = -1\n",
    "    r_ind = len(l)\n",
    "    \n",
    "    while (l_ind < r_ind - 1):\n",
    "        mid = (l_ind + r_ind) // 2\n",
    "        if (l[mid] == val):\n",
    "            return mid\n",
    "        elif (val < l[mid]):\n",
    "            r_ind = mid\n",
    "        else:\n",
    "            l_ind = mid\n",
    "    return -1"
   ]
  },
  {
   "cell_type": "code",
   "execution_count": 9,
   "id": "c1793c25",
   "metadata": {},
   "outputs": [
    {
     "name": "stdout",
     "output_type": "stream",
     "text": [
      "1 2 3 4 5 6 7 8 9\n",
      "0\n",
      "1\n",
      "2\n",
      "8\n",
      "-1\n",
      "-1\n"
     ]
    }
   ],
   "source": [
    "l = [1, 2, 3, 4, 5, 6, 7, 8, 9]\n",
    "print(*l)\n",
    "print(BinarySearch(l, 1))\n",
    "print(BinarySearch(l, 2))\n",
    "print(BinarySearch(l, 3))\n",
    "print(BinarySearch(l, 9))\n",
    "print(BinarySearch(l, 5.5))\n",
    "print(BinarySearch(l, 30))"
   ]
  },
  {
   "cell_type": "code",
   "execution_count": 43,
   "id": "9861abe0",
   "metadata": {},
   "outputs": [],
   "source": [
    "n = 15000\n",
    "test_list = [0] * n\n",
    "\n",
    "import random\n",
    "\n",
    "for i in range(0, len(test_list)):\n",
    "    test_list[i] = random.randint(0, 5000)\n",
    "test_list = sorted(test_list)"
   ]
  },
  {
   "cell_type": "code",
   "execution_count": 44,
   "id": "b6055d0a",
   "metadata": {},
   "outputs": [],
   "source": [
    "time_list = []\n",
    "size_list = []\n",
    "\n",
    "import time\n",
    "\n",
    "for i in range(100, n + 1, 50):\n",
    "    a = test_list[:i]\n",
    "    start_time = time.time()\n",
    "    BinarySearch(a, a[0])\n",
    "    end_time = time.time()\n",
    "    time_list.append(end_time - start_time)\n",
    "    size_list.append(i)"
   ]
  },
  {
   "cell_type": "code",
   "execution_count": 45,
   "id": "c7678fde",
   "metadata": {},
   "outputs": [
    {
     "data": {
      "text/plain": [
       "[<matplotlib.lines.Line2D at 0x7f9e69470790>]"
      ]
     },
     "execution_count": 45,
     "metadata": {},
     "output_type": "execute_result"
    },
    {
     "data": {
      "image/png": "[encoded data removed]",
      "text/plain": [
       "<Figure size 432x288 with 1 Axes>"
      ]
     },
     "metadata": {
      "needs_background": "light"
     },
     "output_type": "display_data"
    }
   ],
   "source": [
    "import matplotlib.pyplot as plt\n",
    "plt.plot(size_list, time_list)"
   ]
  },
  {
   "cell_type": "code",
   "execution_count": 46,
   "id": "1a12561b",
   "metadata": {},
   "outputs": [],
   "source": [
    "def BinarySearch_elementary(l, val):\n",
    "    l_ind = -1\n",
    "    r_ind = len(l)\n",
    "    count = 3 + 2\n",
    "    while (l_ind < r_ind - 1):\n",
    "        mid = (l_ind + r_ind) // 2\n",
    "        count += 3\n",
    "        count += 2\n",
    "        if (l[mid] == val):\n",
    "            return count\n",
    "        elif (val < l[mid]):\n",
    "            count += 3\n",
    "            r_ind = mid\n",
    "        else:\n",
    "            count += 1\n",
    "            l_ind = mid\n",
    "    return count"
   ]
  },
  {
   "cell_type": "code",
   "execution_count": 47,
   "id": "c9c8c75b",
   "metadata": {},
   "outputs": [],
   "source": [
    "time_list_elementary = []\n",
    "size_list_elementary = []\n",
    "\n",
    "import time\n",
    "\n",
    "for i in range(100, n + 1, 10):\n",
    "    a = test_list[:i]\n",
    "    time_list_elementary.append(BinarySearch_elementary(a, a[0]))\n",
    "    size_list_elementary.append(i)"
   ]
  },
  {
   "cell_type": "code",
   "execution_count": 48,
   "id": "2f266f28",
   "metadata": {},
   "outputs": [
    {
     "data": {
      "text/plain": [
       "[<matplotlib.lines.Line2D at 0x7f9e0805dee0>]"
      ]
     },
     "execution_count": 48,
     "metadata": {},
     "output_type": "execute_result"
    },
    {
     "data": {
      "image/png": "[encoded data removed]",
      "text/plain": [
       "<Figure size 432x288 with 1 Axes>"
      ]
     },
     "metadata": {
      "needs_background": "light"
     },
     "output_type": "display_data"
    }
   ],
   "source": [
    "import matplotlib.pyplot as plt\n",
    "plt.plot(size_list_elementary, time_list_elementary)"
   ]
  },
  {
   "cell_type": "code",
   "execution_count": 49,
   "id": "71642f7c",
   "metadata": {},
   "outputs": [],
   "source": [
    "time_list_elementary2 = []\n",
    "size_list_elementary2 = []\n",
    "\n",
    "import time\n",
    "\n",
    "for i in range(100, n + 1, 100):\n",
    "    a = test_list[:i]\n",
    "    time_list_elementary2.append(BinarySearch_elementary(a, a[i // 2]))\n",
    "    size_list_elementary2.append(i)"
   ]
  },
  {
   "cell_type": "code",
   "execution_count": 50,
   "id": "6a465d66",
   "metadata": {},
   "outputs": [
    {
     "data": {
      "text/plain": [
       "[<matplotlib.lines.Line2D at 0x7f9df80701c0>]"
      ]
     },
     "execution_count": 50,
     "metadata": {},
     "output_type": "execute_result"
    },
    {
     "data": {
      "image/png": "[encoded data removed]",
      "text/plain": [
       "<Figure size 432x288 with 1 Axes>"
      ]
     },
     "metadata": {
      "needs_background": "light"
     },
     "output_type": "display_data"
    }
   ],
   "source": [
    "import matplotlib.pyplot as plt\n",
    "plt.plot(size_list_elementary2, time_list_elementary2)"
   ]
  },
  {
   "cell_type": "code",
   "execution_count": 77,
   "id": "55bbf7fc",
   "metadata": {},
   "outputs": [],
   "source": [
    "def BinarySearch_left(l, val):\n",
    "    l_ind = -1\n",
    "    r_ind = len(l)\n",
    "    \n",
    "    while (l_ind < r_ind - 1):\n",
    "        mid = (l_ind + r_ind) // 2\n",
    "        if (val <= l[mid]):\n",
    "            r_ind = mid\n",
    "        else: # <\n",
    "            l_ind = mid\n",
    "    return r_ind"
   ]
  },
  {
   "cell_type": "code",
   "execution_count": 78,
   "id": "1fc823bf",
   "metadata": {},
   "outputs": [],
   "source": [
    "l = [1, 2, 2, 2, 2, 2, 2, 3, 9, 10]"
   ]
  },
  {
   "cell_type": "code",
   "execution_count": 79,
   "id": "a6ff43d4",
   "metadata": {},
   "outputs": [
    {
     "name": "stdout",
     "output_type": "stream",
     "text": [
      "1\n"
     ]
    }
   ],
   "source": [
    "print(BinarySearch_left(l, 2))"
   ]
  },
  {
   "cell_type": "code",
   "execution_count": 80,
   "id": "1f2be68d",
   "metadata": {},
   "outputs": [],
   "source": [
    "def BinarySearch_right(l, val):\n",
    "    l_ind = -1\n",
    "    r_ind = len(l)\n",
    "    \n",
    "    while (l_ind < r_ind - 1):\n",
    "        mid = (l_ind + r_ind) // 2\n",
    "        if (val < l[mid]):\n",
    "            r_ind = mid\n",
    "        else: # <=\n",
    "            l_ind = mid\n",
    "    return l_ind"
   ]
  },
  {
   "cell_type": "code",
   "execution_count": 81,
   "id": "dcaecf8c",
   "metadata": {},
   "outputs": [
    {
     "name": "stdout",
     "output_type": "stream",
     "text": [
      "6\n"
     ]
    }
   ],
   "source": [
    "print(BinarySearch_right(l, 2))"
   ]
  },
  {
   "cell_type": "code",
   "execution_count": 88,
   "id": "73899219",
   "metadata": {},
   "outputs": [],
   "source": [
    "def BinarySearch_left_elementary(l, val):\n",
    "    l_ind = -1\n",
    "    r_ind = len(l)\n",
    "    count = 6\n",
    "    while (l_ind < r_ind - 1):\n",
    "        count += 5\n",
    "        mid = (l_ind + r_ind) // 2\n",
    "        if (val <= l[mid]):\n",
    "            count += 1\n",
    "            r_ind = mid\n",
    "        else: # <\n",
    "            count += 1\n",
    "            l_ind = mid\n",
    "    return count"
   ]
  },
  {
   "cell_type": "code",
   "execution_count": 89,
   "id": "921984b1",
   "metadata": {},
   "outputs": [],
   "source": [
    "def BinarySearch_right_elementary(l, val):\n",
    "    l_ind = -1\n",
    "    r_ind = len(l)\n",
    "    count = 6\n",
    "    while (l_ind < r_ind - 1):\n",
    "        count += 5\n",
    "        mid = (l_ind + r_ind) // 2\n",
    "        if (val < l[mid]):\n",
    "            count += 1\n",
    "            r_ind = mid\n",
    "        else: # <=\n",
    "            count += 1\n",
    "            l_ind = mid\n",
    "    return count"
   ]
  },
  {
   "cell_type": "code",
   "execution_count": 100,
   "id": "7212b92d",
   "metadata": {},
   "outputs": [],
   "source": [
    "time_list_elementary_right = []\n",
    "time_list_elementary_left = []\n",
    "size_list_elementary3 = []\n",
    "\n",
    "import time\n",
    "\n",
    "for i in range(100, n + 1, 100):\n",
    "    a = test_list[:i]\n",
    "    time_list_elementary_right.append(BinarySearch_right_elementary(a, a[i - 1]))\n",
    "    time_list_elementary_left.append(BinarySearch_left_elementary(a, a[i - 1]))\n",
    "    size_list_elementary3.append(i)"
   ]
  },
  {
   "cell_type": "code",
   "execution_count": 101,
   "id": "d42b905d",
   "metadata": {},
   "outputs": [
    {
     "data": {
      "text/plain": [
       "[<matplotlib.lines.Line2D at 0x7f9e50aca280>]"
      ]
     },
     "execution_count": 101,
     "metadata": {},
     "output_type": "execute_result"
    },
    {
     "data": {
      "image/png": "[encoded data removed]",
      "text/plain": [
       "<Figure size 432x288 with 1 Axes>"
      ]
     },
     "metadata": {
      "needs_background": "light"
     },
     "output_type": "display_data"
    }
   ],
   "source": [
    "import matplotlib.pyplot as plt\n",
    "plt.plot(size_list_elementary3, time_list_elementary_right, c = 'r')\n",
    "plt.plot(size_list_elementary3, time_list_elementary_left, c = 'b')"
   ]
  },
  {
   "cell_type": "code",
   "execution_count": 109,
   "id": "3c6da6e3",
   "metadata": {},
   "outputs": [],
   "source": [
    "def fib(n):\n",
    "    #база\n",
    "    if (n == 0 or n == 1 or n == 2):\n",
    "        return 1\n",
    "    #шаг рекурсии\n",
    "    return fib(n - 1) + fib(n - 2)  \n",
    "#fib(6) = fib(5) + fib(4)\n",
    "#fib(5) = fib(4) + fib(3)\n",
    "#fib(4) = fib(3) + fib(2)\n",
    "#fib(3) = fib(2) + fib(1)\n",
    "#fib(2) = 1\n",
    "#fib(1) = 1"
   ]
  },
  {
   "cell_type": "code",
   "execution_count": 110,
   "id": "13832249",
   "metadata": {},
   "outputs": [
    {
     "name": "stdout",
     "output_type": "stream",
     "text": [
      "1\n",
      "1\n",
      "2\n",
      "3\n",
      "5\n",
      "8\n",
      "13\n"
     ]
    }
   ],
   "source": [
    "print(fib(1))\n",
    "print(fib(2))\n",
    "print(fib(3))\n",
    "print(fib(4))\n",
    "print(fib(5))\n",
    "print(fib(6))\n",
    "print(fib(7))"
   ]
  },
  {
   "cell_type": "code",
   "execution_count": 111,
   "id": "7377c994",
   "metadata": {},
   "outputs": [],
   "source": [
    "def BinarySearch_recursion(l, val, l_ind, r_ind):\n",
    "    if (l_ind > r_ind):\n",
    "        return -1\n",
    "    \n",
    "    mid = (l_ind + r_ind) // 2\n",
    "    if (l[mid] == val):\n",
    "        return mid\n",
    "    \n",
    "    if (val < l[mid]):\n",
    "        return BinarySearch_recursion(l, val, l_ind, mid - 1)\n",
    "    else:\n",
    "        return BinarySearch_recursion(l, val, mid + 1, r_ind)"
   ]
  },
  {
   "cell_type": "code",
   "execution_count": 115,
   "id": "3622de9d",
   "metadata": {},
   "outputs": [
    {
     "name": "stdout",
     "output_type": "stream",
     "text": [
      "1 2 3 4 5 6 7 8 9\n",
      "0\n",
      "1\n",
      "2\n",
      "8\n",
      "-1\n",
      "-1\n"
     ]
    }
   ],
   "source": [
    "l = [1, 2, 3, 4, 5, 6, 7, 8, 9]\n",
    "print(*l)\n",
    "print(BinarySearch_recursion(l, 1, 0, len(l) - 1))\n",
    "print(BinarySearch_recursion(l, 2, 0, len(l) - 1))\n",
    "print(BinarySearch_recursion(l, 3, 0, len(l) - 1))\n",
    "print(BinarySearch_recursion(l, 9, 0, len(l) - 1))\n",
    "print(BinarySearch_recursion(l, 5.5, 0, len(l) - 1))\n",
    "print(BinarySearch_recursion(l, 30, 0, len(l) - 1))"
   ]
  },
  {
   "cell_type": "code",
   "execution_count": 127,
   "id": "62d67227",
   "metadata": {},
   "outputs": [],
   "source": [
    "def BinarySearch_recursion_elemetary(l, val, l_ind, r_ind, count):\n",
    "    count += 1\n",
    "    if (l_ind > r_ind):\n",
    "        return count\n",
    "    \n",
    "    mid = (l_ind + r_ind) // 2\n",
    "    count += 5\n",
    "    if (l[mid] == val):\n",
    "        return count\n",
    "    \n",
    "    count += 2\n",
    "    if (val < l[mid]):\n",
    "        count += 1 + 1 + 4\n",
    "        return BinarySearch_recursion_elemetary(l, val, l_ind, mid - 1, count)\n",
    "    else:\n",
    "        count += 1 + 1 + 4\n",
    "        return BinarySearch_recursion_elemetary(l, val, mid + 1, r_ind, count)"
   ]
  },
  {
   "cell_type": "code",
   "execution_count": 128,
   "id": "03e0d9ff",
   "metadata": {},
   "outputs": [],
   "source": [
    "time_list_elementary = []\n",
    "size_list_elementary = []\n",
    "\n",
    "import time\n",
    "\n",
    "for i in range(100, n + 1, 10):\n",
    "    a = test_list[:i]\n",
    "    time_list_elementary.append(BinarySearch_elementary(a, a[0]))\n",
    "    size_list_elementary.append(i)\n",
    "    \n",
    "time_list_elementary_recursion = []\n",
    "size_list_elementary_recursion = []\n",
    "\n",
    "import time\n",
    "\n",
    "for i in range(100, n + 1, 10):\n",
    "    a = test_list[:i]\n",
    "    time_list_elementary_recursion.append(BinarySearch_recursion_elemetary(a, a[0], 0, len(a) - 1, 0))\n",
    "    size_list_elementary_recursion.append(i)"
   ]
  },
  {
   "cell_type": "code",
   "execution_count": 129,
   "id": "af2102b9",
   "metadata": {},
   "outputs": [
    {
     "data": {
      "text/plain": [
       "[<matplotlib.lines.Line2D at 0x7f9e080ea340>]"
      ]
     },
     "execution_count": 129,
     "metadata": {},
     "output_type": "execute_result"
    },
    {
     "data": {
      "image/png": "[encoded data removed]",
      "text/plain": [
       "<Figure size 432x288 with 1 Axes>"
      ]
     },
     "metadata": {
      "needs_background": "light"
     },
     "output_type": "display_data"
    }
   ],
   "source": [
    "import matplotlib.pyplot as plt\n",
    "plt.plot(size_list_elementary, time_list_elementary, c = 'r')\n",
    "plt.plot(size_list_elementary_recursion, time_list_elementary_recursion, c = 'b')"
   ]
  },
  {
   "cell_type": "code",
   "execution_count": 205,
   "id": "8a182966",
   "metadata": {},
   "outputs": [],
   "source": [
    "def BinarySearch_recursion_left(l, val, l_ind, r_ind):\n",
    "    if (l_ind > r_ind):\n",
    "        return l_ind\n",
    "    \n",
    "    mid = (l_ind + r_ind) // 2\n",
    "    \n",
    "#     print(l_ind, r_ind, mid, l[mid])\n",
    "    \n",
    "    if (val <= l[mid]):\n",
    "        return BinarySearch_recursion_left(l, val, l_ind, mid - 1)\n",
    "    else:\n",
    "        return BinarySearch_recursion_left(l, val, mid + 1, r_ind)"
   ]
  },
  {
   "cell_type": "code",
   "execution_count": 206,
   "id": "fce9601a",
   "metadata": {},
   "outputs": [
    {
     "name": "stdout",
     "output_type": "stream",
     "text": [
      "1\n"
     ]
    }
   ],
   "source": [
    "l = [1, 2, 2, 2, 2, 2, 2, 3, 9, 10]\n",
    "print(BinarySearch_recursion_left(l, 2, 0, len(l) - 1))"
   ]
  },
  {
   "cell_type": "code",
   "execution_count": 207,
   "id": "c51325ac",
   "metadata": {},
   "outputs": [],
   "source": [
    "def BinarySearch_recursion_right(l, val, l_ind, r_ind):\n",
    "    if (l_ind > r_ind):\n",
    "        return r_ind\n",
    "    \n",
    "    mid = (l_ind + r_ind) // 2\n",
    "    \n",
    "    if (val < l[mid]):\n",
    "        return BinarySearch_recursion_right(l, val, l_ind, mid - 1)\n",
    "    else:\n",
    "        return BinarySearch_recursion_right(l, val, mid + 1, r_ind)"
   ]
  },
  {
   "cell_type": "code",
   "execution_count": 208,
   "id": "d8c503d8",
   "metadata": {},
   "outputs": [
    {
     "name": "stdout",
     "output_type": "stream",
     "text": [
      "0\n"
     ]
    }
   ],
   "source": [
    "l = [1, 2, 2, 2, 2, 2, 2, 3, 9, 10]\n",
    "print(BinarySearch_recursion_right(l, 1, 0, len(l) - 1))"
   ]
  },
  {
   "cell_type": "code",
   "execution_count": 220,
   "id": "32809d3d",
   "metadata": {},
   "outputs": [],
   "source": [
    "def findLeft(c, f):\n",
    "    x = -1\n",
    "    while f(x) > c:\n",
    "        x *= 2\n",
    "    return x\n",
    "\n",
    "def findRight(c, f):\n",
    "    x = 1\n",
    "    while f(x) < c:\n",
    "        x *= 2\n",
    "    return x\n",
    "\n",
    "def BinDoubleSearch(c, eps, f):\n",
    "    left = findLeft(c, f)\n",
    "    right = findRight(c, f)\n",
    "    print(left, right)\n",
    "    while (right - left > eps):\n",
    "        mid = (left + right) / 2\n",
    "        print(left, right)\n",
    "        if (f(mid) < c):\n",
    "            left = mid\n",
    "        else:\n",
    "            right = mid\n",
    "    return (left + right) / 2"
   ]
  },
  {
   "cell_type": "code",
   "execution_count": 221,
   "id": "57b193b7",
   "metadata": {},
   "outputs": [
    {
     "name": "stdout",
     "output_type": "stream",
     "text": [
      "-1 2\n",
      "-1 2\n",
      "0.5 2\n",
      "1.25 2\n",
      "1.625 2\n",
      "1.8125 2\n",
      "1.90625 2\n",
      "1.953125 2\n",
      "1.9765625 2\n",
      "1.98828125 2\n",
      "1.994140625 2\n",
      "1.9970703125 2\n",
      "1.99853515625 2\n",
      "1.9996337890625\n"
     ]
    }
   ],
   "source": [
    "print(BinDoubleSearch(8, 0.001, lambda x: x ** 3))"
   ]
  },
  {
   "cell_type": "code",
   "execution_count": 224,
   "id": "652a7c0f",
   "metadata": {},
   "outputs": [
    {
     "name": "stdout",
     "output_type": "stream",
     "text": [
      "-2 1\n",
      "-2 1\n",
      "-2 -0.5\n",
      "-2 -1.25\n",
      "-2 -1.625\n",
      "-2 -1.8125\n",
      "-2 -1.90625\n",
      "-2 -1.953125\n",
      "-2 -1.9765625\n",
      "-2 -1.98828125\n",
      "-2 -1.994140625\n",
      "-2 -1.9970703125\n",
      "-2 -1.99853515625\n",
      "-1.9996337890625\n"
     ]
    }
   ],
   "source": [
    "print(BinDoubleSearch(-32, 0.001, lambda x: x ** 5))"
   ]
  },
  {
   "cell_type": "code",
   "execution_count": 231,
   "id": "7aac482a",
   "metadata": {},
   "outputs": [],
   "source": [
    "def ternarySearch(left, right, eps, f):\n",
    "    while (right - left > eps):\n",
    "        a = (2 * left + right) / 3\n",
    "        b = (left + right * 2) / 3\n",
    "        print(left, right)\n",
    "        if (f(a) < f(b)):\n",
    "            right = b\n",
    "        else:\n",
    "            left = a\n",
    "    return (left + right) / 2"
   ]
  },
  {
   "cell_type": "code",
   "execution_count": 234,
   "id": "c0b63f4a",
   "metadata": {},
   "outputs": [
    {
     "name": "stdout",
     "output_type": "stream",
     "text": [
      "-4 4\n",
      "-1.3333333333333333 4\n",
      "-1.3333333333333333 2.2222222222222223\n",
      "-0.14814814814814806 2.2222222222222223\n",
      "-0.14814814814814806 1.432098765432099\n",
      "0.3786008230452676 1.432098765432099\n",
      "0.729766803840878 1.432098765432099\n",
      "0.729766803840878 1.1979881115683586\n",
      "0.8858405730833715 1.1979881115683586\n",
      "0.8858405730833715 1.0939389320733628\n",
      "0.9552066927467019 1.0939389320733628\n",
      "0.9552066927467019 1.0476948522978091\n",
      "0.9552066927467019 1.0168654657807734\n",
      "0.9757596170913924 1.0168654657807734\n",
      "0.9894615666545193 1.0168654657807734\n",
      "0.9894615666545193 1.0077308327386887\n",
      "0.9955513220159092 1.0077308327386887\n",
      "0.9955513220159092 1.0036709958310956\n",
      "0.9982578799543047 1.0036709958310956\n",
      "0.9982578799543047 1.0018666238721654\n",
      "0.9982578799543047 1.0006637092328785\n",
      "0.9990598230471627 1.0006637092328785\n",
      "0.9995944517757346 1.0006637092328785\n",
      "0.999950870928116\n"
     ]
    }
   ],
   "source": [
    "print(ternarySearch(-4, 4, 0.001, lambda x: x**2 - 2 * x + 1))"
   ]
  },
  {
   "cell_type": "code",
   "execution_count": 249,
   "id": "bd3d91ba",
   "metadata": {},
   "outputs": [],
   "source": [
    "def interpolatingSearch(l, val):\n",
    "    l_ind = 0\n",
    "    r_ind = len(l) - 1\n",
    "    mid = -1\n",
    "    while (l_ind <= r_ind):\n",
    "        last_mid = mid\n",
    "        mid = int(l_ind + (val - l[l_ind]) / (l[r_ind] - l[l_ind]) * (r_ind - l_ind))\n",
    "        if (last_mid == mid):\n",
    "            break\n",
    "        print(l_ind, r_ind, mid)\n",
    "        if (l[mid] == val):\n",
    "            return mid\n",
    "        elif (l[mid] > val):\n",
    "            r_ind = mid - 1\n",
    "        else:\n",
    "            l_ind = mid + 1\n",
    "    return -1"
   ]
  },
  {
   "cell_type": "code",
   "execution_count": 250,
   "id": "cd346b78",
   "metadata": {},
   "outputs": [
    {
     "name": "stdout",
     "output_type": "stream",
     "text": [
      "1 2 3 4 5 6 7 8 9\n",
      "0 8 0\n",
      "0\n",
      "0 8 1\n",
      "1\n",
      "0 8 2\n",
      "2\n",
      "0 8 8\n",
      "8\n",
      "0 8 4\n",
      "-1\n"
     ]
    }
   ],
   "source": [
    "l = [1, 2, 3, 4, 5, 6, 7, 8, 9]\n",
    "print(*l)\n",
    "print(interpolatingSearch(l, 1))\n",
    "print(interpolatingSearch(l, 2))\n",
    "print(interpolatingSearch(l, 3))\n",
    "print(interpolatingSearch(l, 9))\n",
    "print(interpolatingSearch(l, 5.5))"
   ]
  },
  {
   "cell_type": "code",
   "execution_count": null,
   "id": "f2cf4767",
   "metadata": {},
   "outputs": [],
   "source": []
  }
 ],
 "metadata": {
  "kernelspec": {
   "display_name": "Python 3 (ipykernel)",
   "language": "python",
   "name": "python3"
  },
  "language_info": {
   "codemirror_mode": {
    "name": "ipython",
    "version": 3
   },
   "file_extension": ".py",
   "mimetype": "text/x-python",
   "name": "python",
   "nbconvert_exporter": "python",
   "pygments_lexer": "ipython3",
   "version": "3.9.12"
  }
 },
 "nbformat": 4,
 "nbformat_minor": 5
}
