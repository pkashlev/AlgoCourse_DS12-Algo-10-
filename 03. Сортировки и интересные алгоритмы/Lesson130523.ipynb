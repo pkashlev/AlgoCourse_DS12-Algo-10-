{
 "cells": [
  {
   "cell_type": "code",
   "execution_count": 30,
   "id": "6cb1c8ca",
   "metadata": {},
   "outputs": [],
   "source": [
    "def SelectionSortDoubled(l):\n",
    "    for i in range(0, len(l) // 2 + 1):\n",
    "        min_element = i\n",
    "        max_element = len(l) - 1 - i\n",
    "        \n",
    "        for j in range(i, len(l) - i):\n",
    "            if (l[j] < l[min_element]):\n",
    "                min_element = j\n",
    "            if (l[j] > l[max_element]):\n",
    "                max_element = j\n",
    "        \n",
    "        if (max_element == i and min_element == len(l) - 1 - i):\n",
    "            l[max_element], l[min_element] = l[min_element], l[max_element]\n",
    "        elif (max_element == i):\n",
    "            l[max_element], l[len(l) - 1 - i] = l[len(l) - 1 - i], l[max_element]\n",
    "            l[min_element], l[i] = l[i], l[min_element]\n",
    "        elif (min_element == i and max_element == (len(l) - 1 - i)):\n",
    "            pass\n",
    "        else: # в т.ч. min_element == len(l) - 1 - i\n",
    "            l[min_element], l[i] = l[i], l[min_element]\n",
    "            l[max_element], l[len(l) - 1 - i] = l[len(l) - 1 - i], l[max_element]"
   ]
  },
  {
   "cell_type": "code",
   "execution_count": 31,
   "id": "054f0976",
   "metadata": {},
   "outputs": [
    {
     "name": "stdout",
     "output_type": "stream",
     "text": [
      "-4 1 3 8\n"
     ]
    }
   ],
   "source": [
    "l = [3, 1, 8, -4]\n",
    "SelectionSortDoubled(l)\n",
    "print(*l)"
   ]
  },
  {
   "cell_type": "code",
   "execution_count": 27,
   "id": "902305f2",
   "metadata": {},
   "outputs": [
    {
     "name": "stdout",
     "output_type": "stream",
     "text": [
      "3 5 7 8 9\n"
     ]
    }
   ],
   "source": [
    "l = [8, 9, 7, 5, 3]\n",
    "SelectionSortDoubled(l)\n",
    "print(*l)"
   ]
  },
  {
   "cell_type": "code",
   "execution_count": 1,
   "id": "8bf57cc2",
   "metadata": {},
   "outputs": [],
   "source": [
    "#    0  1  2  3  4\n",
    "# 0: 8, 9, 7, 5, 3\n",
    "# min = 4, max = 1\n",
    "# 1: 3, 8, 7, 5, 9\n",
    "# min = 3, max = 1\n",
    "# 2: 3  8  7  5  9\n",
    "# min = 7, max = 7"
   ]
  },
  {
   "cell_type": "code",
   "execution_count": 2,
   "id": "8069229d",
   "metadata": {},
   "outputs": [],
   "source": [
    "def CountingSort(l):\n",
    "    min_el = min(l)\n",
    "    max_el = max(l)\n",
    "    # [-3, 5] -> [0, 8]\n",
    "    # [3, 5] -> [0, 2]\n",
    "    count = [0 for i in range(0, max_el - min_el + 1)]\n",
    "    \n",
    "    for i in range(len(l)):\n",
    "        count[l[i] - min_el] += 1\n",
    "    for i in range (1, len(count)):\n",
    "        count[i] = count[i - 1] + count[i]\n",
    "    \n",
    "    c = [0] * len(l)\n",
    "    for k in range(len(l) - 1, -1, -1):\n",
    "        c[count[l[k] - min_el] - 1] = l[k]\n",
    "        count[l[k] - min_el] -= 1\n",
    "    return c"
   ]
  },
  {
   "cell_type": "code",
   "execution_count": 3,
   "id": "680ec318",
   "metadata": {},
   "outputs": [
    {
     "name": "stdout",
     "output_type": "stream",
     "text": [
      "-3 -1 -1 2 3 4 5\n"
     ]
    }
   ],
   "source": [
    "l = [-1, 2, 3, -3, 4, 5, -1]\n",
    "print(*CountingSort(l))"
   ]
  },
  {
   "cell_type": "code",
   "execution_count": 5,
   "id": "5606d9ae",
   "metadata": {},
   "outputs": [
    {
     "name": "stdout",
     "output_type": "stream",
     "text": [
      "0 -1 1 4 1 5 10 9\n",
      "2\n",
      "1\n"
     ]
    }
   ],
   "source": [
    "l = [-1, 2, 3, -3, 4, 5, -1]\n",
    "s = [0] * (len(l) + 1)\n",
    "\n",
    "for i in range(1, len(s)):\n",
    "    s[i] = s[i - 1] + l[i - 1]\n",
    "print(*s)\n",
    "print(s[4] - s[1])\n",
    "print(s[4] - s[0])"
   ]
  },
  {
   "cell_type": "code",
   "execution_count": 7,
   "id": "eae752ff",
   "metadata": {},
   "outputs": [
    {
     "name": "stdout",
     "output_type": "stream",
     "text": [
      "0 1 1 2 2 3 3 4\n",
      "1\n",
      "2\n"
     ]
    }
   ],
   "source": [
    "l = [-1, 2, -1, -3, -1, 5, -1]\n",
    "s = [0] * (len(l) + 1)\n",
    "\n",
    "for i in range(1, len(s)):\n",
    "    if (l[i - 1] == -1):\n",
    "        s[i] = s[i - 1] + 1\n",
    "    else:\n",
    "        s[i] = s[i - 1]\n",
    "print(*s)\n",
    "print(s[4] - s[1])\n",
    "print(s[4] - s[0])"
   ]
  },
  {
   "cell_type": "code",
   "execution_count": null,
   "id": "800b9ce9",
   "metadata": {},
   "outputs": [],
   "source": []
  }
 ],
 "metadata": {
  "kernelspec": {
   "display_name": "Python 3 (ipykernel)",
   "language": "python",
   "name": "python3"
  },
  "language_info": {
   "codemirror_mode": {
    "name": "ipython",
    "version": 3
   },
   "file_extension": ".py",
   "mimetype": "text/x-python",
   "name": "python",
   "nbconvert_exporter": "python",
   "pygments_lexer": "ipython3",
   "version": "3.9.12"
  }
 },
 "nbformat": 4,
 "nbformat_minor": 5
}
